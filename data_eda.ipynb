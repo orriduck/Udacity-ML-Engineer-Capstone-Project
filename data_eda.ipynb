{
 "cells": [
  {
   "cell_type": "code",
   "execution_count": 167,
   "metadata": {},
   "outputs": [],
   "source": [
    "%%capture\n",
    "!pip install google-cloud-storage\n",
    "!pip install --upgrade google-cloud-bigquery\n",
    "!pip install pyarrow\n",
    "!pip install spacy\n",
    "!pip install swifter"
   ]
  },
  {
   "cell_type": "code",
   "execution_count": 2,
   "metadata": {},
   "outputs": [],
   "source": [
    "import os\n",
    "os.environ[\"GOOGLE_APPLICATION_CREDENTIALS\"] = \"/root/Udacity-ML-Engineer-Capstone-Project/credentials/Google_bigquery_auth.json\""
   ]
  },
  {
   "cell_type": "code",
   "execution_count": 4,
   "metadata": {},
   "outputs": [
    {
     "name": "stdout",
     "output_type": "stream",
     "text": [
      "Fetched 4000000 Records\n"
     ]
    },
    {
     "data": {
      "text/html": [
       "<div>\n",
       "<style scoped>\n",
       "    .dataframe tbody tr th:only-of-type {\n",
       "        vertical-align: middle;\n",
       "    }\n",
       "\n",
       "    .dataframe tbody tr th {\n",
       "        vertical-align: top;\n",
       "    }\n",
       "\n",
       "    .dataframe thead th {\n",
       "        text-align: right;\n",
       "    }\n",
       "</style>\n",
       "<table border=\"1\" class=\"dataframe\">\n",
       "  <thead>\n",
       "    <tr style=\"text-align: right;\">\n",
       "      <th></th>\n",
       "      <th>name</th>\n",
       "      <th>time_sec</th>\n",
       "      <th>subject</th>\n",
       "      <th>message</th>\n",
       "      <th>first_segment_message</th>\n",
       "    </tr>\n",
       "  </thead>\n",
       "  <tbody>\n",
       "    <tr>\n",
       "      <th>0</th>\n",
       "      <td>juhosg</td>\n",
       "      <td>1395903771</td>\n",
       "      <td>packages/devio: fix whitespaces</td>\n",
       "      <td>packages/devio: fix whitespaces\\n\\nSigned-off-...</td>\n",
       "      <td>packages/devio: fix whitespaces</td>\n",
       "    </tr>\n",
       "    <tr>\n",
       "      <th>1</th>\n",
       "      <td>Тукаев Александр Юрьевич</td>\n",
       "      <td>1393580313</td>\n",
       "      <td>Main -&gt; Prerelease (ERM-3214)</td>\n",
       "      <td>Main -&gt; Prerelease (ERM-3214)\\n\\ngit-tfs-id: [...</td>\n",
       "      <td>Main -&gt; Prerelease (ERM-3214)</td>\n",
       "    </tr>\n",
       "    <tr>\n",
       "      <th>2</th>\n",
       "      <td>Andreas Kleen</td>\n",
       "      <td>1077799544</td>\n",
       "      <td>Lots of updates</td>\n",
       "      <td>Lots of updates\\n\\nsuse-commit: a4cdcf59ad21c9...</td>\n",
       "      <td>Lots of updates</td>\n",
       "    </tr>\n",
       "    <tr>\n",
       "      <th>3</th>\n",
       "      <td>android-build-merger</td>\n",
       "      <td>1469741041</td>\n",
       "      <td>Merge \\\"Responsive caret drawable\\\" into ub-la...</td>\n",
       "      <td>Merge \\\"Responsive caret drawable\\\" into ub-la...</td>\n",
       "      <td>Merge \\\"Responsive caret drawable\\\" into ub-la...</td>\n",
       "    </tr>\n",
       "    <tr>\n",
       "      <th>4</th>\n",
       "      <td>lastclick</td>\n",
       "      <td>1209342182</td>\n",
       "      <td>fix (?=$) to $ http://forums.openkore.com/view...</td>\n",
       "      <td>fix (?=$) to $\\nhttp://forums.openkore.com/vie...</td>\n",
       "      <td>fix (?=$) to $\\nhttp://forums.openkore.com/vie...</td>\n",
       "    </tr>\n",
       "    <tr>\n",
       "      <th>5</th>\n",
       "      <td>Fabien Balageas</td>\n",
       "      <td>1322494537</td>\n",
       "      <td>close #2558 - removed unneeded Save dialog in ...</td>\n",
       "      <td>close #2558 - removed unneeded Save dialog in ...</td>\n",
       "      <td>close #2558 - removed unneeded Save dialog in ...</td>\n",
       "    </tr>\n",
       "    <tr>\n",
       "      <th>6</th>\n",
       "      <td>David Cournapeau</td>\n",
       "      <td>1214729790</td>\n",
       "      <td>Initialized merge tracking via \"svnmerge\" with...</td>\n",
       "      <td>Initialized merge tracking via \"svnmerge\" with...</td>\n",
       "      <td>Initialized merge tracking via \"svnmerge\" with...</td>\n",
       "    </tr>\n",
       "    <tr>\n",
       "      <th>7</th>\n",
       "      <td>OpenStack Jenkins</td>\n",
       "      <td>1385964015</td>\n",
       "      <td>Imported Translations from Transifex</td>\n",
       "      <td>Imported Translations from Transifex\\n\\nChange...</td>\n",
       "      <td>Imported Translations from Transifex</td>\n",
       "    </tr>\n",
       "    <tr>\n",
       "      <th>8</th>\n",
       "      <td>Тукаев Александр Юрьевич</td>\n",
       "      <td>1409895634</td>\n",
       "      <td>[NA] Core/Prerelease RI</td>\n",
       "      <td>[NA] Core/Prerelease RI\\n\\ngit-tfs-id: [http:/...</td>\n",
       "      <td>[NA] Core/Prerelease RI</td>\n",
       "    </tr>\n",
       "    <tr>\n",
       "      <th>9</th>\n",
       "      <td>Hans Wennborg</td>\n",
       "      <td>1309452583</td>\n",
       "      <td>svn propdel svn:eol-style test/Sema/return.cpp</td>\n",
       "      <td>svn propdel svn:eol-style test/Sema/return.cpp...</td>\n",
       "      <td>svn propdel svn:eol-style test/Sema/return.cpp</td>\n",
       "    </tr>\n",
       "  </tbody>\n",
       "</table>\n",
       "</div>"
      ],
      "text/plain": [
       "                       name    time_sec  \\\n",
       "0                    juhosg  1395903771   \n",
       "1  Тукаев Александр Юрьевич  1393580313   \n",
       "2             Andreas Kleen  1077799544   \n",
       "3      android-build-merger  1469741041   \n",
       "4                 lastclick  1209342182   \n",
       "5           Fabien Balageas  1322494537   \n",
       "6          David Cournapeau  1214729790   \n",
       "7         OpenStack Jenkins  1385964015   \n",
       "8  Тукаев Александр Юрьевич  1409895634   \n",
       "9             Hans Wennborg  1309452583   \n",
       "\n",
       "                                             subject  \\\n",
       "0                    packages/devio: fix whitespaces   \n",
       "1                      Main -> Prerelease (ERM-3214)   \n",
       "2                                    Lots of updates   \n",
       "3  Merge \\\"Responsive caret drawable\\\" into ub-la...   \n",
       "4  fix (?=$) to $ http://forums.openkore.com/view...   \n",
       "5  close #2558 - removed unneeded Save dialog in ...   \n",
       "6  Initialized merge tracking via \"svnmerge\" with...   \n",
       "7               Imported Translations from Transifex   \n",
       "8                            [NA] Core/Prerelease RI   \n",
       "9     svn propdel svn:eol-style test/Sema/return.cpp   \n",
       "\n",
       "                                             message  \\\n",
       "0  packages/devio: fix whitespaces\\n\\nSigned-off-...   \n",
       "1  Main -> Prerelease (ERM-3214)\\n\\ngit-tfs-id: [...   \n",
       "2  Lots of updates\\n\\nsuse-commit: a4cdcf59ad21c9...   \n",
       "3  Merge \\\"Responsive caret drawable\\\" into ub-la...   \n",
       "4  fix (?=$) to $\\nhttp://forums.openkore.com/vie...   \n",
       "5  close #2558 - removed unneeded Save dialog in ...   \n",
       "6  Initialized merge tracking via \"svnmerge\" with...   \n",
       "7  Imported Translations from Transifex\\n\\nChange...   \n",
       "8  [NA] Core/Prerelease RI\\n\\ngit-tfs-id: [http:/...   \n",
       "9  svn propdel svn:eol-style test/Sema/return.cpp...   \n",
       "\n",
       "                               first_segment_message  \n",
       "0                    packages/devio: fix whitespaces  \n",
       "1                      Main -> Prerelease (ERM-3214)  \n",
       "2                                    Lots of updates  \n",
       "3  Merge \\\"Responsive caret drawable\\\" into ub-la...  \n",
       "4  fix (?=$) to $\\nhttp://forums.openkore.com/vie...  \n",
       "5  close #2558 - removed unneeded Save dialog in ...  \n",
       "6  Initialized merge tracking via \"svnmerge\" with...  \n",
       "7               Imported Translations from Transifex  \n",
       "8                            [NA] Core/Prerelease RI  \n",
       "9     svn propdel svn:eol-style test/Sema/return.cpp  "
      ]
     },
     "metadata": {},
     "output_type": "display_data"
    }
   ],
   "source": [
    "from google.cloud import bigquery\n",
    "import pandas as pd\n",
    "\n",
    "client = bigquery.Client()\n",
    "\n",
    "QUERY = \"\"\"\n",
    "        SELECT committer.name, committer.time_sec, subject, message\n",
    "        FROM `bigquery-public-data.github_repos.commits`\n",
    "        WHERE LENGTH(message) > 6 AND LENGTH(message) <= 200\n",
    "        LIMIT 4000000\n",
    "        \"\"\"\n",
    "\n",
    "query_job = client.query(QUERY)\n",
    "\n",
    "iterator = query_job.result(timeout=200)\n",
    "rows = list(iterator)\n",
    "\n",
    "commit_messages = pd.DataFrame(data=[list(x.values()) for x in rows], columns=list(rows[0].keys()))\n",
    "commit_messages[\"first_segment_message\"] = commit_messages[\"message\"].str.split(\"\\n\\n\").str.get(0) # split by \\n\\n too see if there are multiple segment commit message\n",
    "print(f\"Fetched {commit_messages.shape[0]} Records\")\n",
    "# Look at the first 10 headlines\n",
    "display(commit_messages.head(10))"
   ]
  },
  {
   "cell_type": "code",
   "execution_count": 5,
   "metadata": {},
   "outputs": [
    {
     "name": "stdout",
     "output_type": "stream",
     "text": [
      "Saved the dataset to ./data/commit_messages.parquet\n"
     ]
    }
   ],
   "source": [
    "data_dir = \"./data/\"\n",
    "data_path = os.path.join(data_dir, \"commit_messages.parquet\")\n",
    "os.makedirs(data_dir, exist_ok = True)\n",
    "\n",
    "commit_messages.to_parquet(data_path)\n",
    "print(f\"Saved the dataset to {data_path}\")"
   ]
  },
  {
   "cell_type": "markdown",
   "metadata": {},
   "source": [
    "### EDA of the data \n",
    "Can be run independently against previous section"
   ]
  },
  {
   "cell_type": "code",
   "execution_count": 6,
   "metadata": {},
   "outputs": [],
   "source": [
    "import pandas as pd\n",
    "import numpy as np\n",
    "import matplotlib.pyplot as plt\n",
    "# pd.options.plotting.backend=\"plotly\""
   ]
  },
  {
   "cell_type": "code",
   "execution_count": 7,
   "metadata": {},
   "outputs": [],
   "source": [
    "data_dir = \"./data/\"\n",
    "data_path = os.path.join(data_dir, \"commit_messages.parquet\")"
   ]
  },
  {
   "cell_type": "code",
   "execution_count": 8,
   "metadata": {},
   "outputs": [
    {
     "name": "stdout",
     "output_type": "stream",
     "text": [
      "(4000000, 5)\n"
     ]
    }
   ],
   "source": [
    "commit_messages = pd.read_parquet(data_path)\n",
    "print(commit_messages.shape)"
   ]
  },
  {
   "cell_type": "code",
   "execution_count": 24,
   "metadata": {},
   "outputs": [
    {
     "data": {
      "text/plain": [
       "name                         0\n",
       "time_sec                     0\n",
       "subject                      0\n",
       "message                      0\n",
       "first_segment_message        0\n",
       "subject_len                  0\n",
       "message_len                  0\n",
       "first_segment_message_len    0\n",
       "dtype: int64"
      ]
     },
     "execution_count": 24,
     "metadata": {},
     "output_type": "execute_result"
    }
   ],
   "source": [
    "# NA Checking\n",
    "commit_messages.isna().sum()"
   ]
  },
  {
   "cell_type": "code",
   "execution_count": 10,
   "metadata": {},
   "outputs": [
    {
     "data": {
      "text/html": [
       "<div>\n",
       "<style scoped>\n",
       "    .dataframe tbody tr th:only-of-type {\n",
       "        vertical-align: middle;\n",
       "    }\n",
       "\n",
       "    .dataframe tbody tr th {\n",
       "        vertical-align: top;\n",
       "    }\n",
       "\n",
       "    .dataframe thead th {\n",
       "        text-align: right;\n",
       "    }\n",
       "</style>\n",
       "<table border=\"1\" class=\"dataframe\">\n",
       "  <thead>\n",
       "    <tr style=\"text-align: right;\">\n",
       "      <th></th>\n",
       "      <th>name</th>\n",
       "      <th>time_sec</th>\n",
       "      <th>subject</th>\n",
       "      <th>message</th>\n",
       "      <th>first_segment_message</th>\n",
       "    </tr>\n",
       "  </thead>\n",
       "  <tbody>\n",
       "    <tr>\n",
       "      <th>0</th>\n",
       "      <td>juhosg</td>\n",
       "      <td>1395903771</td>\n",
       "      <td>packages/devio: fix whitespaces</td>\n",
       "      <td>packages/devio: fix whitespaces\\n\\nSigned-off-...</td>\n",
       "      <td>packages/devio: fix whitespaces</td>\n",
       "    </tr>\n",
       "    <tr>\n",
       "      <th>1</th>\n",
       "      <td>Тукаев Александр Юрьевич</td>\n",
       "      <td>1393580313</td>\n",
       "      <td>Main -&gt; Prerelease (ERM-3214)</td>\n",
       "      <td>Main -&gt; Prerelease (ERM-3214)\\n\\ngit-tfs-id: [...</td>\n",
       "      <td>Main -&gt; Prerelease (ERM-3214)</td>\n",
       "    </tr>\n",
       "    <tr>\n",
       "      <th>2</th>\n",
       "      <td>Andreas Kleen</td>\n",
       "      <td>1077799544</td>\n",
       "      <td>Lots of updates</td>\n",
       "      <td>Lots of updates\\n\\nsuse-commit: a4cdcf59ad21c9...</td>\n",
       "      <td>Lots of updates</td>\n",
       "    </tr>\n",
       "    <tr>\n",
       "      <th>3</th>\n",
       "      <td>android-build-merger</td>\n",
       "      <td>1469741041</td>\n",
       "      <td>Merge \\\"Responsive caret drawable\\\" into ub-la...</td>\n",
       "      <td>Merge \\\"Responsive caret drawable\\\" into ub-la...</td>\n",
       "      <td>Merge \\\"Responsive caret drawable\\\" into ub-la...</td>\n",
       "    </tr>\n",
       "    <tr>\n",
       "      <th>4</th>\n",
       "      <td>lastclick</td>\n",
       "      <td>1209342182</td>\n",
       "      <td>fix (?=$) to $ http://forums.openkore.com/view...</td>\n",
       "      <td>fix (?=$) to $\\nhttp://forums.openkore.com/vie...</td>\n",
       "      <td>fix (?=$) to $\\nhttp://forums.openkore.com/vie...</td>\n",
       "    </tr>\n",
       "  </tbody>\n",
       "</table>\n",
       "</div>"
      ],
      "text/plain": [
       "                       name    time_sec  \\\n",
       "0                    juhosg  1395903771   \n",
       "1  Тукаев Александр Юрьевич  1393580313   \n",
       "2             Andreas Kleen  1077799544   \n",
       "3      android-build-merger  1469741041   \n",
       "4                 lastclick  1209342182   \n",
       "\n",
       "                                             subject  \\\n",
       "0                    packages/devio: fix whitespaces   \n",
       "1                      Main -> Prerelease (ERM-3214)   \n",
       "2                                    Lots of updates   \n",
       "3  Merge \\\"Responsive caret drawable\\\" into ub-la...   \n",
       "4  fix (?=$) to $ http://forums.openkore.com/view...   \n",
       "\n",
       "                                             message  \\\n",
       "0  packages/devio: fix whitespaces\\n\\nSigned-off-...   \n",
       "1  Main -> Prerelease (ERM-3214)\\n\\ngit-tfs-id: [...   \n",
       "2  Lots of updates\\n\\nsuse-commit: a4cdcf59ad21c9...   \n",
       "3  Merge \\\"Responsive caret drawable\\\" into ub-la...   \n",
       "4  fix (?=$) to $\\nhttp://forums.openkore.com/vie...   \n",
       "\n",
       "                               first_segment_message  \n",
       "0                    packages/devio: fix whitespaces  \n",
       "1                      Main -> Prerelease (ERM-3214)  \n",
       "2                                    Lots of updates  \n",
       "3  Merge \\\"Responsive caret drawable\\\" into ub-la...  \n",
       "4  fix (?=$) to $\\nhttp://forums.openkore.com/vie...  "
      ]
     },
     "execution_count": 10,
     "metadata": {},
     "output_type": "execute_result"
    }
   ],
   "source": [
    "commit_messages.head()"
   ]
  },
  {
   "cell_type": "code",
   "execution_count": 11,
   "metadata": {},
   "outputs": [
    {
     "name": "stdout",
     "output_type": "stream",
     "text": [
      "10.97% of Subjects are totally identical to commit messages\n"
     ]
    }
   ],
   "source": [
    "identical_ratio = (commit_messages[\"subject\"].values == commit_messages[\"message\"].values).sum() / commit_messages.shape[0]\n",
    "print(\"{:.2f}% of Subjects are totally identical to commit messages\".format(100 * identical_ratio))"
   ]
  },
  {
   "cell_type": "code",
   "execution_count": 12,
   "metadata": {},
   "outputs": [
    {
     "name": "stdout",
     "output_type": "stream",
     "text": [
      "30.58% of Subjects are totally identical to the first segment of the message\n"
     ]
    }
   ],
   "source": [
    "identical_ratio = (commit_messages[\"subject\"].values == commit_messages[\"first_segment_message\"].values).sum() / commit_messages.shape[0]\n",
    "print(\"{:.2f}% of Subjects are totally identical to the first segment of the message\".format(100 * identical_ratio))"
   ]
  },
  {
   "cell_type": "code",
   "execution_count": 13,
   "metadata": {},
   "outputs": [
    {
     "name": "stdout",
     "output_type": "stream",
     "text": [
      "20.28% of Message has multiple segment if split by '\\n\\n'\n"
     ]
    }
   ],
   "source": [
    "segmented_message_ratio = commit_messages[\"message\"].map(lambda x: \"\\n\\n\" in x).sum() / commit_messages.shape[0]\n",
    "print(\"{:.2f}% of Message has multiple segment if split by '\\\\n\\\\n'\".format(100 * segmented_message_ratio))"
   ]
  },
  {
   "cell_type": "code",
   "execution_count": 15,
   "metadata": {},
   "outputs": [
    {
     "data": {
      "text/plain": [
       "<matplotlib.axes._subplots.AxesSubplot at 0x7f8cd8acc710>"
      ]
     },
     "execution_count": 15,
     "metadata": {},
     "output_type": "execute_result"
    },
    {
     "data": {
      "image/png": "[encoded data removed]",
      "text/plain": [
       "<Figure size 432x288 with 1 Axes>"
      ]
     },
     "metadata": {
      "needs_background": "light"
     },
     "output_type": "display_data"
    }
   ],
   "source": [
    "# Commit Message & Subject Length Distribution\n",
    "fig, axes = plt.subplots()\n",
    "commit_messages[\"subject_len\"] = commit_messages[\"subject\"].str.len()\n",
    "commit_messages[\"message_len\"] = commit_messages[\"message\"].str.len()\n",
    "commit_messages[\"first_segment_message_len\"] = commit_messages[\"message\"].str.split(\"\\n\").str.get(0).str.len()\n",
    "commit_messages.plot.box(y=[\"subject_len\", \"message_len\", \"first_segment_message_len\"], ax=axes)"
   ]
  },
  {
   "cell_type": "markdown",
   "metadata": {},
   "source": [
    "### Build Rule System that create dependent variable\n",
    "Can be run independently against previous section"
   ]
  },
  {
   "cell_type": "code",
   "execution_count": 169,
   "metadata": {},
   "outputs": [],
   "source": [
    "import pandas as pd\n",
    "import swifter\n",
    "import numpy as np\n",
    "import spacy"
   ]
  },
  {
   "cell_type": "code",
   "execution_count": 42,
   "metadata": {},
   "outputs": [],
   "source": [
    "%%capture\n",
    "# !python -m spacy download en_core_web_sm\n",
    "!pip install https://github.com/explosion/spacy-models/releases/download/en_core_web_sm-3.0.0/en_core_web_sm-3.0.0.tar.gz"
   ]
  },
  {
   "cell_type": "code",
   "execution_count": 47,
   "metadata": {},
   "outputs": [],
   "source": [
    "import en_core_web_sm\n",
    "nlp = en_core_web_sm.load()"
   ]
  },
  {
   "cell_type": "code",
   "execution_count": 19,
   "metadata": {},
   "outputs": [],
   "source": [
    "data_dir = \"./data/\"\n",
    "data_path = os.path.join(data_dir, \"commit_messages.parquet\")\n",
    "usecols = [\"name\", \"subject\", \"first_segment_message\"]"
   ]
  },
  {
   "cell_type": "code",
   "execution_count": 25,
   "metadata": {},
   "outputs": [
    {
     "name": "stdout",
     "output_type": "stream",
     "text": [
      "(4000000, 3)\n"
     ]
    }
   ],
   "source": [
    "commit_messages = pd.read_parquet(data_path, columns = usecols)\n",
    "print(commit_messages.shape)"
   ]
  },
  {
   "cell_type": "code",
   "execution_count": 197,
   "metadata": {},
   "outputs": [
    {
     "name": "stdout",
     "output_type": "stream",
     "text": [
      "{'rename', 'add', 'merge', 'remove', 'polish', 'resolve', 'rework', 'fix', 'update', 'implement', 'refactor'}\n"
     ]
    }
   ],
   "source": [
    "raw_identifiers = [\"fix\", \"update\", \"rework\", \"merge\", \"add\", \"polish\", \\\n",
    "                   \"resolve\", \"rename\", \"refactor\", \"remove\", \"implement\"]\n",
    "identifiers = set([nlp(word)[0].lemma_ for word in identifiers])\n",
    "print(identifiers)"
   ]
  },
  {
   "cell_type": "code",
   "execution_count": 187,
   "metadata": {},
   "outputs": [
    {
     "name": "stdout",
     "output_type": "stream",
     "text": [
      "packages/devio: fix whitespaces \n",
      "... True True False False True --> False\n",
      "Main -> Prerelease (ERM-3214) \n",
      "... False True True False False --> False\n",
      "Lots of updates \n",
      "... True True True False False --> False\n",
      "Merge \\\"Responsive caret drawable\\\" into ub-launcher3-calgary\n",
      "am: 7da6d00c2e \n",
      "... True True True False True --> False\n",
      "fix (?=$) to $\n",
      "http://forums.openkore.com/viewtopic.php?f=32&t=641 \n",
      "... True True False False False --> False\n",
      "close #2558 - removed unneeded Save dialog in trunk \n",
      "... True True False False True --> False\n",
      "Initialized merge tracking via \"svnmerge\" with revisions \"1-3128\" from \n",
      "http://scons.tigris.org/svn/scons/branches/trygrep \n",
      "... True True True False True --> False\n",
      "Imported Translations from Transifex \n",
      "... False True True False True --> False\n",
      "[NA] Core/Prerelease RI \n",
      "... False True False False False --> False\n",
      "svn propdel svn:eol-style test/Sema/return.cpp \n",
      "... False True False False False --> False\n"
     ]
    }
   ],
   "source": [
    "def create_dependant_variable(row, debug=False):\n",
    "    message_doc = nlp(row[\"first_segment_message\"])\n",
    "    subject_doc = nlp(row[\"subject\"])\n",
    "    \n",
    "    identifier_exist = None\n",
    "    not_overlength = None\n",
    "    capitalized_first_token = None\n",
    "    not_period_end = None\n",
    "    first_alpha_word_verb = None\n",
    "    \n",
    "    try:\n",
    "        if message_doc.__len__() > 0 and subject_doc.__len__() > 0:\n",
    "            identifier_exist = False\n",
    "            for token in subject_doc:\n",
    "                if token.lemma_ in identifiers:\n",
    "                    identifier_exist = True\n",
    "                    break\n",
    "                else:\n",
    "                    continue\n",
    "            if identifier_exist is False:\n",
    "                for token in message_doc:\n",
    "                    if token.lemma_ in identifiers:\n",
    "                        identifier_exist = True\n",
    "                        break\n",
    "                    else:\n",
    "                        continue\n",
    "            not_overlength = message_doc.__len__() <= 50\n",
    "            capitalized_first_token = message_doc[0].is_title\n",
    "            not_period_end = message_doc[-1].text == \".\"\n",
    "            first_alpha_word_verb = False\n",
    "            for token in message_doc:\n",
    "                if token.is_alpha == True and token.pos_ == \"VERB\":\n",
    "                    first_alpha_word_verb = True\n",
    "                    break\n",
    "            final = all([identifier_exist, not_overlength, capitalized_first_token, \\\n",
    "                         not_period_end, first_alpha_word_verb])\n",
    "            if debug is True:\n",
    "                print(message_doc, \"\\n...\", identifier_exist, not_overlength, capitalized_first_token, \\\n",
    "                      not_period_end, first_alpha_word_verb, \"-->\", final)\n",
    "        else:\n",
    "            final = False\n",
    "            if debug is True:\n",
    "                print(message_doc, \"\\n...\", \"empty message body found, assigning bad message\")\n",
    "    except Exception as e:\n",
    "        print(f\"WARNING: message {message_doc[:10]}... and subject {subject_doc[:10]}... raised exception {e}\")\n",
    "    finally:\n",
    "        return {\"identifier\": identifier_exist, \\\n",
    "                \"length_ok\": not_overlength, \\\n",
    "                \"capital_first_token\": capitalized_first_token, \\\n",
    "                \"not_period_end\": not_period_end, \\\n",
    "                \"imperative_mood\": first_alpha_word_verb, \\\n",
    "                \"good_message\": final}\n",
    "        \n",
    "sample = commit_messages.head(10)\n",
    "_ = sample.apply(lambda x: create_dependant_variable(x, debug=True), axis=1)"
   ]
  },
  {
   "cell_type": "code",
   "execution_count": null,
   "metadata": {},
   "outputs": [],
   "source": [
    "## Label Distribution\n",
    "fetched = commit_messages\n",
    "resp = fetched.apply(lambda x: create_dependant_variable(x), axis=1)\n",
    "\n",
    "resp_df = pd.DataFrame.from_records(resp).fillna(False)\n",
    "commit_messages_with_label = pd.concat([fetched, resp_df], axis=1)\n",
    "\n",
    "resp_df.groupby(\"good_message\") \\\n",
    "    .agg({\"identifier\": [\"count\", \"sum\"], \\\n",
    "          \"length_ok\": [\"count\", \"sum\"], \\\n",
    "          \"capital_first_token\": [\"count\", \"sum\"], \\\n",
    "          \"not_period_end\": [\"count\", \"sum\"], \\\n",
    "          \"imperative_mood\": [\"count\", \"sum\"]}) \\\n",
    "    .astype(int)"
   ]
  },
  {
   "cell_type": "code",
   "execution_count": null,
   "metadata": {},
   "outputs": [],
   "source": [
    "## Manual Review the True Sample is what we want\n",
    "commit_messages_with_label.loc[commit_messages_with_label[\"good_message\"] == True]"
   ]
  },
  {
   "cell_type": "markdown",
   "metadata": {},
   "source": [
    "### Split Datasets"
   ]
  },
  {
   "cell_type": "markdown",
   "metadata": {},
   "source": [
    "### Create Features and Feature Transform"
   ]
  },
  {
   "cell_type": "markdown",
   "metadata": {},
   "source": [
    "### Model Training"
   ]
  },
  {
   "cell_type": "markdown",
   "metadata": {},
   "source": [
    "### Model Deployment"
   ]
  },
  {
   "cell_type": "code",
   "execution_count": null,
   "metadata": {},
   "outputs": [],
   "source": []
  }
 ],
 "metadata": {
  "instance_type": "ml.m5.large",
  "kernelspec": {
   "display_name": "Python 3 (Data Science)",
   "language": "python",
   "name": "python3__SAGEMAKER_INTERNAL__arn:aws:sagemaker:us-east-1:081325390199:image/datascience-1.0"
  },
  "language_info": {
   "codemirror_mode": {
    "name": "ipython",
    "version": 3
   },
   "file_extension": ".py",
   "mimetype": "text/x-python",
   "name": "python",
   "nbconvert_exporter": "python",
   "pygments_lexer": "ipython3",
   "version": "3.7.6"
  }
 },
 "nbformat": 4,
 "nbformat_minor": 4
}
